{
 "cells": [
  {
   "cell_type": "code",
   "execution_count": 6,
   "metadata": {},
   "outputs": [
    {
     "name": "stdout",
     "output_type": "stream",
     "text": [
      "[('public', 'NewsSource', 'postgres', None, True, False, True, False), ('public', 'News', 'postgres', None, True, False, True, False), ('public', 'NewsCluster', 'postgres', None, True, False, True, False), ('pg_catalog', 'pg_statistic', 'postgres', None, True, False, False, False), ('public', 'Tweet', 'postgres', None, True, False, True, False), ('public', 'TwitterUser', 'postgres', None, True, False, True, False), ('pg_catalog', 'pg_foreign_table', 'postgres', None, True, False, False, False), ('pg_catalog', 'pg_authid', 'postgres', 'pg_global', True, False, False, False), ('pg_catalog', 'pg_user_mapping', 'postgres', None, True, False, False, False), ('pg_catalog', 'pg_subscription', 'postgres', 'pg_global', True, False, False, False), ('pg_catalog', 'pg_largeobject', 'postgres', None, True, False, False, False), ('pg_catalog', 'pg_type', 'postgres', None, True, False, False, False), ('pg_catalog', 'pg_attribute', 'postgres', None, True, False, False, False), ('pg_catalog', 'pg_proc', 'postgres', None, True, False, False, False), ('pg_catalog', 'pg_class', 'postgres', None, True, False, False, False), ('pg_catalog', 'pg_attrdef', 'postgres', None, True, False, False, False), ('pg_catalog', 'pg_constraint', 'postgres', None, True, False, False, False), ('pg_catalog', 'pg_inherits', 'postgres', None, True, False, False, False), ('pg_catalog', 'pg_index', 'postgres', None, True, False, False, False), ('pg_catalog', 'pg_operator', 'postgres', None, True, False, False, False), ('pg_catalog', 'pg_opfamily', 'postgres', None, True, False, False, False), ('pg_catalog', 'pg_opclass', 'postgres', None, True, False, False, False), ('pg_catalog', 'pg_am', 'postgres', None, True, False, False, False), ('pg_catalog', 'pg_amop', 'postgres', None, True, False, False, False), ('pg_catalog', 'pg_amproc', 'postgres', None, True, False, False, False), ('pg_catalog', 'pg_language', 'postgres', None, True, False, False, False), ('pg_catalog', 'pg_largeobject_metadata', 'postgres', None, True, False, False, False), ('pg_catalog', 'pg_aggregate', 'postgres', None, True, False, False, False), ('pg_catalog', 'pg_statistic_ext', 'postgres', None, True, False, False, False), ('pg_catalog', 'pg_rewrite', 'postgres', None, True, False, False, False), ('pg_catalog', 'pg_trigger', 'postgres', None, True, False, False, False), ('pg_catalog', 'pg_event_trigger', 'postgres', None, True, False, False, False), ('pg_catalog', 'pg_description', 'postgres', None, True, False, False, False), ('pg_catalog', 'pg_cast', 'postgres', None, True, False, False, False), ('pg_catalog', 'pg_enum', 'postgres', None, True, False, False, False), ('pg_catalog', 'pg_namespace', 'postgres', None, True, False, False, False), ('pg_catalog', 'pg_conversion', 'postgres', None, True, False, False, False), ('pg_catalog', 'pg_depend', 'postgres', None, True, False, False, False), ('pg_catalog', 'pg_database', 'postgres', 'pg_global', True, False, False, False), ('pg_catalog', 'pg_db_role_setting', 'postgres', 'pg_global', True, False, False, False), ('pg_catalog', 'pg_tablespace', 'postgres', 'pg_global', True, False, False, False), ('pg_catalog', 'pg_pltemplate', 'postgres', 'pg_global', True, False, False, False), ('pg_catalog', 'pg_auth_members', 'postgres', 'pg_global', True, False, False, False), ('pg_catalog', 'pg_shdepend', 'postgres', 'pg_global', True, False, False, False), ('pg_catalog', 'pg_shdescription', 'postgres', 'pg_global', True, False, False, False), ('pg_catalog', 'pg_ts_config', 'postgres', None, True, False, False, False), ('pg_catalog', 'pg_ts_config_map', 'postgres', None, True, False, False, False), ('pg_catalog', 'pg_ts_dict', 'postgres', None, True, False, False, False), ('pg_catalog', 'pg_ts_parser', 'postgres', None, True, False, False, False), ('pg_catalog', 'pg_ts_template', 'postgres', None, True, False, False, False), ('pg_catalog', 'pg_extension', 'postgres', None, True, False, False, False), ('pg_catalog', 'pg_foreign_data_wrapper', 'postgres', None, True, False, False, False), ('pg_catalog', 'pg_foreign_server', 'postgres', None, True, False, False, False), ('pg_catalog', 'pg_policy', 'postgres', None, True, False, False, False), ('pg_catalog', 'pg_replication_origin', 'postgres', 'pg_global', True, False, False, False), ('pg_catalog', 'pg_default_acl', 'postgres', None, True, False, False, False), ('pg_catalog', 'pg_init_privs', 'postgres', None, True, False, False, False), ('pg_catalog', 'pg_seclabel', 'postgres', None, True, False, False, False), ('pg_catalog', 'pg_shseclabel', 'postgres', 'pg_global', True, False, False, False), ('pg_catalog', 'pg_collation', 'postgres', None, True, False, False, False), ('pg_catalog', 'pg_partitioned_table', 'postgres', None, True, False, False, False), ('pg_catalog', 'pg_range', 'postgres', None, True, False, False, False), ('pg_catalog', 'pg_transform', 'postgres', None, True, False, False, False), ('pg_catalog', 'pg_sequence', 'postgres', None, True, False, False, False), ('pg_catalog', 'pg_publication', 'postgres', None, True, False, False, False), ('pg_catalog', 'pg_publication_rel', 'postgres', None, True, False, False, False), ('pg_catalog', 'pg_subscription_rel', 'postgres', None, True, False, False, False), ('information_schema', 'sql_features', 'postgres', None, False, False, False, False), ('information_schema', 'sql_implementation_info', 'postgres', None, False, False, False, False), ('information_schema', 'sql_languages', 'postgres', None, False, False, False, False), ('information_schema', 'sql_packages', 'postgres', None, False, False, False, False), ('information_schema', 'sql_parts', 'postgres', None, False, False, False, False), ('information_schema', 'sql_sizing', 'postgres', None, False, False, False, False), ('information_schema', 'sql_sizing_profiles', 'postgres', None, False, False, False, False)]\n"
     ]
    }
   ],
   "source": [
    "import psycopg2\n",
    "\n",
    "# Try to connect\n",
    "\n",
    "try:\n",
    "    conn=psycopg2.connect(\"dbname='temp' user='postgres' password='TestPass'\")\n",
    "except:\n",
    "    print(\"I am unable to connect to the database.\")\n",
    "    \n",
    "cur = conn.cursor()\n",
    "try:\n",
    "    cur.execute(\"\"\"SELECT * FROM pg_catalog.pg_tables;\"\"\")\n",
    "except:\n",
    "    print(\"I can't drop our test database!\")\n",
    "\n",
    "rows = cur.fetchall()\n",
    "print(rows)"
   ]
  },
  {
   "cell_type": "code",
   "execution_count": null,
   "metadata": {},
   "outputs": [],
   "source": []
  }
 ],
 "metadata": {
  "kernelspec": {
   "display_name": "Python 3",
   "language": "python",
   "name": "python3"
  },
  "language_info": {
   "codemirror_mode": {
    "name": "ipython",
    "version": 3
   },
   "file_extension": ".py",
   "mimetype": "text/x-python",
   "name": "python",
   "nbconvert_exporter": "python",
   "pygments_lexer": "ipython3",
   "version": "3.6.8"
  }
 },
 "nbformat": 4,
 "nbformat_minor": 2
}
