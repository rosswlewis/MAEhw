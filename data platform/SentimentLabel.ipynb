{
 "cells": [
  {
   "cell_type": "code",
   "execution_count": 127,
   "metadata": {},
   "outputs": [],
   "source": [
    "import pandas as pd\n",
    "import re\n",
    "import math\n",
    "\n",
    "posRules = pd.read_csv(\"sentimentRulesPos.csv\")\n",
    "negRules = pd.read_csv(\"sentimentRulesNeg.csv\")\n",
    "def getPosSentiment(target,text):\n",
    "    for i, rule in posRules.iterrows():\n",
    "        rulePass = False\n",
    "        \n",
    "        if(isinstance(rule['include'], str)):\n",
    "            includes = re.findall('\"([^\"]*)\"', rule['include'])\n",
    "            for inc in includes:\n",
    "                #print(inc)\n",
    "                adj = inc.replace('\"','').replace('?','.').replace('*','.*?').replace('XXX',target)\n",
    "                #print(adj)\n",
    "                if(re.search(adj,text)):\n",
    "                    rulePass = True\n",
    "\n",
    "        #print(rulePass)\n",
    "        if(isinstance(rule['not'], str)):\n",
    "            notInc = re.findall('\"([^\"]*)\"', rule['not'])\n",
    "            for notI in notInc:\n",
    "                #print(rulePass)\n",
    "                #print(notI)\n",
    "                adj = notI.replace('\"','').replace('?','.').replace('*','.*?').replace('XXX',target)\n",
    "                #print(adj)\n",
    "                if(re.search(adj,text)):\n",
    "                    rulePass = False\n",
    "        \n",
    "        if(rulePass):\n",
    "            return 1\n",
    "    return 0\n",
    "\n",
    "def getNegSentiment(target,text):\n",
    "    for i, rule in negRules.iterrows():\n",
    "        rulePass = False\n",
    "        \n",
    "        if(isinstance(rule['include'], str)):\n",
    "            includes = re.findall('\"([^\"]*)\"', rule['include'])\n",
    "            for inc in includes:\n",
    "                #print(inc)\n",
    "                adj = inc.replace('\"','').replace('?','.').replace('*','.*?').replace('XXX',target)\n",
    "                #print(adj)\n",
    "                if(re.search(adj,text)):\n",
    "                    rulePass = True\n",
    "\n",
    "        #print(rulePass)\n",
    "        if(isinstance(rule['not'], str)):\n",
    "            notInc = re.findall('\"([^\"]*)\"', rule['not'])\n",
    "            for notI in notInc:\n",
    "                #print(rulePass)\n",
    "                #print(notI)\n",
    "                adj = notI.replace('\"','').replace('?','.').replace('*','.*?').replace('XXX',target)\n",
    "                #print(adj)\n",
    "                if(re.search(adj,text)):\n",
    "                    rulePass = False\n",
    "        \n",
    "        if(rulePass):\n",
    "            return 1\n",
    "    return 0"
   ]
  },
  {
   "cell_type": "code",
   "execution_count": 128,
   "metadata": {},
   "outputs": [
    {
     "data": {
      "text/plain": [
       "1"
      ]
     },
     "execution_count": 128,
     "metadata": {},
     "output_type": "execute_result"
    }
   ],
   "source": [
    "#text = 'expect move higher'\n",
    "text = ' buy abc     sbuy eur now!'\n",
    "getPosSentiment('eur',text)"
   ]
  },
  {
   "cell_type": "code",
   "execution_count": 129,
   "metadata": {},
   "outputs": [
    {
     "data": {
      "text/plain": [
       "0"
      ]
     },
     "execution_count": 129,
     "metadata": {},
     "output_type": "execute_result"
    }
   ],
   "source": [
    "#text = 'expect move higher'\n",
    "text = ' bearish about eur now but lack!'\n",
    "getNegSentiment('eur',text)"
   ]
  },
  {
   "cell_type": "code",
   "execution_count": null,
   "metadata": {},
   "outputs": [],
   "source": []
  },
  {
   "cell_type": "code",
   "execution_count": null,
   "metadata": {},
   "outputs": [],
   "source": []
  },
  {
   "cell_type": "code",
   "execution_count": 54,
   "metadata": {},
   "outputs": [
    {
     "name": "stdout",
     "output_type": "stream",
     "text": [
      ".*?buy..eur.*?\n",
      ".*?buy.eur.*?\n",
      ".*?buy.*?lot.*?eur.*?\n"
     ]
    }
   ],
   "source": [
    "for i, rule in rules.iterrows():\n",
    "    rulePass = False\n",
    "    includes = rule['include'].split(',')\n",
    "    for inc in includes:\n",
    "        adj = inc.replace('\"','').replace('?','.').replace('*','.*?')\n",
    "        print(adj)\n",
    "        if(re.search(adj,text)):\n",
    "            rulePass = True\n",
    "        \n",
    "    notInc = rule['not'].split(',')\n",
    "    for notI in notInc:\n",
    "        adj = notI.replace('\"','').replace('?','.').replace('*','.*?')\n",
    "        print(adj)\n",
    "        if(re.search(adj,text)):\n",
    "            rulePass = False\n",
    "    if(rulePass):\n",
    "        return 1\n",
    "return 0"
   ]
  },
  {
   "cell_type": "code",
   "execution_count": null,
   "metadata": {},
   "outputs": [],
   "source": []
  },
  {
   "cell_type": "code",
   "execution_count": null,
   "metadata": {},
   "outputs": [],
   "source": []
  },
  {
   "cell_type": "code",
   "execution_count": null,
   "metadata": {},
   "outputs": [],
   "source": []
  },
  {
   "cell_type": "code",
   "execution_count": null,
   "metadata": {},
   "outputs": [],
   "source": []
  },
  {
   "cell_type": "code",
   "execution_count": null,
   "metadata": {},
   "outputs": [],
   "source": []
  },
  {
   "cell_type": "code",
   "execution_count": null,
   "metadata": {},
   "outputs": [],
   "source": []
  },
  {
   "cell_type": "code",
   "execution_count": null,
   "metadata": {},
   "outputs": [],
   "source": []
  },
  {
   "cell_type": "code",
   "execution_count": null,
   "metadata": {},
   "outputs": [],
   "source": []
  }
 ],
 "metadata": {
  "kernelspec": {
   "display_name": "Python 3",
   "language": "python",
   "name": "python3"
  },
  "language_info": {
   "codemirror_mode": {
    "name": "ipython",
    "version": 3
   },
   "file_extension": ".py",
   "mimetype": "text/x-python",
   "name": "python",
   "nbconvert_exporter": "python",
   "pygments_lexer": "ipython3",
   "version": "3.6.8"
  }
 },
 "nbformat": 4,
 "nbformat_minor": 2
}
